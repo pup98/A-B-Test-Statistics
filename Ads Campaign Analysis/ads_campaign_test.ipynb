{
 "cells": [
  {
   "cell_type": "code",
   "execution_count": 77,
   "metadata": {},
   "outputs": [],
   "source": [
    "import pandas as pd\n",
    "import numpy as np\n",
    "import seaborn as sns\n",
    "import scipy.stats as stats\n",
    "from scipy.stats import norm\n",
    "import seaborn as sns\n",
    "import matplotlib.pyplot as plt\n",
    "from matplotlib.lines import Line2D\n",
    "%matplotlib inline\n",
    "import warnings\n",
    "warnings. filterwarnings(\"ignore\")"
   ]
  },
  {
   "cell_type": "code",
   "execution_count": 78,
   "metadata": {},
   "outputs": [],
   "source": [
    "# Set up the format and styles for plots globally\n",
    "sns.set_style('white')\n",
    "plt.rc('axes', titlesize=12)\n",
    "plt.rc('axes', labelsize=11)\n",
    "plt.rc('xtick', labelsize=10)\n",
    "plt.rc('ytick', labelsize=10)\n",
    "plt.rc('legend', fontsize=10)\n",
    "plt.rc('font', size=14)"
   ]
  },
  {
   "cell_type": "markdown",
   "metadata": {},
   "source": [
    "## Business objective\n",
    "\n",
    "The company is trying new ad design to increase ad success.<br />\n",
    "To do so they made new advertising design and performed an A/B test in which one group of users have been shown an old ad and another - new one.\n",
    "\n",
    "Experiment Approach\n",
    "\n",
    "Our goal is to analyse the results of A/B test and figure out wherever new design of ad affects the behavior of users in terms of responding to questionnaire.\n",
    "\n",
    "Ad success rate is measured by users responding yes! to the questionare as a response. <br />\n",
    "\n",
    "* Null Hypothesis Hₒ : p = pₒ - There is no significant difference between the ad success rate of both groups <br />\n",
    "* Alternative Hypothesis Hₐ : p ≠ pₒ - There is significant difference between the ad success rate of \n",
    "both groups.  <br />\n",
    "\n",
    "Given we don’t know if the new design will perform better/worse/equal as our current design, we will perform a two-tailed test. <br />\n",
    "Confidence Level: 95% (α=0.05)"
   ]
  },
  {
   "cell_type": "markdown",
   "metadata": {},
   "source": [
    "## Explore .."
   ]
  },
  {
   "cell_type": "code",
   "execution_count": 79,
   "metadata": {},
   "outputs": [],
   "source": [
    "data = pd.read_csv('adsmart.csv')"
   ]
  },
  {
   "cell_type": "code",
   "execution_count": 80,
   "metadata": {},
   "outputs": [
    {
     "data": {
      "text/html": [
       "<div>\n",
       "<style scoped>\n",
       "    .dataframe tbody tr th:only-of-type {\n",
       "        vertical-align: middle;\n",
       "    }\n",
       "\n",
       "    .dataframe tbody tr th {\n",
       "        vertical-align: top;\n",
       "    }\n",
       "\n",
       "    .dataframe thead th {\n",
       "        text-align: right;\n",
       "    }\n",
       "</style>\n",
       "<table border=\"1\" class=\"dataframe\">\n",
       "  <thead>\n",
       "    <tr style=\"text-align: right;\">\n",
       "      <th></th>\n",
       "      <th>auction_id</th>\n",
       "      <th>experiment</th>\n",
       "      <th>date</th>\n",
       "      <th>hour</th>\n",
       "      <th>device_make</th>\n",
       "      <th>platform_os</th>\n",
       "      <th>browser</th>\n",
       "      <th>yes</th>\n",
       "      <th>no</th>\n",
       "    </tr>\n",
       "  </thead>\n",
       "  <tbody>\n",
       "    <tr>\n",
       "      <th>0</th>\n",
       "      <td>0008ef63-77a7-448b-bd1e-075f42c55e39</td>\n",
       "      <td>exposed</td>\n",
       "      <td>2020-07-10</td>\n",
       "      <td>8</td>\n",
       "      <td>Generic Smartphone</td>\n",
       "      <td>6</td>\n",
       "      <td>Chrome Mobile</td>\n",
       "      <td>0</td>\n",
       "      <td>0</td>\n",
       "    </tr>\n",
       "    <tr>\n",
       "      <th>1</th>\n",
       "      <td>000eabc5-17ce-4137-8efe-44734d914446</td>\n",
       "      <td>exposed</td>\n",
       "      <td>2020-07-07</td>\n",
       "      <td>10</td>\n",
       "      <td>Generic Smartphone</td>\n",
       "      <td>6</td>\n",
       "      <td>Chrome Mobile</td>\n",
       "      <td>0</td>\n",
       "      <td>0</td>\n",
       "    </tr>\n",
       "    <tr>\n",
       "      <th>2</th>\n",
       "      <td>0016d14a-ae18-4a02-a204-6ba53b52f2ed</td>\n",
       "      <td>exposed</td>\n",
       "      <td>2020-07-05</td>\n",
       "      <td>2</td>\n",
       "      <td>E5823</td>\n",
       "      <td>6</td>\n",
       "      <td>Chrome Mobile WebView</td>\n",
       "      <td>0</td>\n",
       "      <td>1</td>\n",
       "    </tr>\n",
       "    <tr>\n",
       "      <th>3</th>\n",
       "      <td>00187412-2932-4542-a8ef-3633901c98d9</td>\n",
       "      <td>control</td>\n",
       "      <td>2020-07-03</td>\n",
       "      <td>15</td>\n",
       "      <td>Samsung SM-A705FN</td>\n",
       "      <td>6</td>\n",
       "      <td>Facebook</td>\n",
       "      <td>0</td>\n",
       "      <td>0</td>\n",
       "    </tr>\n",
       "    <tr>\n",
       "      <th>4</th>\n",
       "      <td>001a7785-d3fe-4e11-a344-c8735acacc2c</td>\n",
       "      <td>control</td>\n",
       "      <td>2020-07-03</td>\n",
       "      <td>15</td>\n",
       "      <td>Generic Smartphone</td>\n",
       "      <td>6</td>\n",
       "      <td>Chrome Mobile</td>\n",
       "      <td>0</td>\n",
       "      <td>0</td>\n",
       "    </tr>\n",
       "  </tbody>\n",
       "</table>\n",
       "</div>"
      ],
      "text/plain": [
       "                             auction_id experiment        date  hour  \\\n",
       "0  0008ef63-77a7-448b-bd1e-075f42c55e39    exposed  2020-07-10     8   \n",
       "1  000eabc5-17ce-4137-8efe-44734d914446    exposed  2020-07-07    10   \n",
       "2  0016d14a-ae18-4a02-a204-6ba53b52f2ed    exposed  2020-07-05     2   \n",
       "3  00187412-2932-4542-a8ef-3633901c98d9    control  2020-07-03    15   \n",
       "4  001a7785-d3fe-4e11-a344-c8735acacc2c    control  2020-07-03    15   \n",
       "\n",
       "          device_make  platform_os                browser  yes  no  \n",
       "0  Generic Smartphone            6          Chrome Mobile    0   0  \n",
       "1  Generic Smartphone            6          Chrome Mobile    0   0  \n",
       "2               E5823            6  Chrome Mobile WebView    0   1  \n",
       "3   Samsung SM-A705FN            6               Facebook    0   0  \n",
       "4  Generic Smartphone            6          Chrome Mobile    0   0  "
      ]
     },
     "execution_count": 80,
     "metadata": {},
     "output_type": "execute_result"
    }
   ],
   "source": [
    "data.head()"
   ]
  },
  {
   "cell_type": "code",
   "execution_count": 81,
   "metadata": {},
   "outputs": [
    {
     "data": {
      "text/html": [
       "<div>\n",
       "<style scoped>\n",
       "    .dataframe tbody tr th:only-of-type {\n",
       "        vertical-align: middle;\n",
       "    }\n",
       "\n",
       "    .dataframe tbody tr th {\n",
       "        vertical-align: top;\n",
       "    }\n",
       "\n",
       "    .dataframe thead th {\n",
       "        text-align: right;\n",
       "    }\n",
       "</style>\n",
       "<table border=\"1\" class=\"dataframe\">\n",
       "  <thead>\n",
       "    <tr style=\"text-align: right;\">\n",
       "      <th></th>\n",
       "      <th>auction_id</th>\n",
       "      <th>experiment</th>\n",
       "      <th>device_make</th>\n",
       "      <th>platform_os</th>\n",
       "      <th>browser</th>\n",
       "      <th>yes</th>\n",
       "      <th>no</th>\n",
       "    </tr>\n",
       "  </thead>\n",
       "  <tbody>\n",
       "    <tr>\n",
       "      <th>0</th>\n",
       "      <td>0008ef63-77a7-448b-bd1e-075f42c55e39</td>\n",
       "      <td>exposed</td>\n",
       "      <td>Generic Smartphone</td>\n",
       "      <td>6</td>\n",
       "      <td>Chrome Mobile</td>\n",
       "      <td>0</td>\n",
       "      <td>0</td>\n",
       "    </tr>\n",
       "    <tr>\n",
       "      <th>1</th>\n",
       "      <td>000eabc5-17ce-4137-8efe-44734d914446</td>\n",
       "      <td>exposed</td>\n",
       "      <td>Generic Smartphone</td>\n",
       "      <td>6</td>\n",
       "      <td>Chrome Mobile</td>\n",
       "      <td>0</td>\n",
       "      <td>0</td>\n",
       "    </tr>\n",
       "    <tr>\n",
       "      <th>2</th>\n",
       "      <td>0016d14a-ae18-4a02-a204-6ba53b52f2ed</td>\n",
       "      <td>exposed</td>\n",
       "      <td>E5823</td>\n",
       "      <td>6</td>\n",
       "      <td>Chrome Mobile WebView</td>\n",
       "      <td>0</td>\n",
       "      <td>1</td>\n",
       "    </tr>\n",
       "    <tr>\n",
       "      <th>3</th>\n",
       "      <td>00187412-2932-4542-a8ef-3633901c98d9</td>\n",
       "      <td>control</td>\n",
       "      <td>Samsung SM-A705FN</td>\n",
       "      <td>6</td>\n",
       "      <td>Facebook</td>\n",
       "      <td>0</td>\n",
       "      <td>0</td>\n",
       "    </tr>\n",
       "    <tr>\n",
       "      <th>4</th>\n",
       "      <td>001a7785-d3fe-4e11-a344-c8735acacc2c</td>\n",
       "      <td>control</td>\n",
       "      <td>Generic Smartphone</td>\n",
       "      <td>6</td>\n",
       "      <td>Chrome Mobile</td>\n",
       "      <td>0</td>\n",
       "      <td>0</td>\n",
       "    </tr>\n",
       "  </tbody>\n",
       "</table>\n",
       "</div>"
      ],
      "text/plain": [
       "                             auction_id experiment         device_make  \\\n",
       "0  0008ef63-77a7-448b-bd1e-075f42c55e39    exposed  Generic Smartphone   \n",
       "1  000eabc5-17ce-4137-8efe-44734d914446    exposed  Generic Smartphone   \n",
       "2  0016d14a-ae18-4a02-a204-6ba53b52f2ed    exposed               E5823   \n",
       "3  00187412-2932-4542-a8ef-3633901c98d9    control   Samsung SM-A705FN   \n",
       "4  001a7785-d3fe-4e11-a344-c8735acacc2c    control  Generic Smartphone   \n",
       "\n",
       "   platform_os                browser  yes  no  \n",
       "0            6          Chrome Mobile    0   0  \n",
       "1            6          Chrome Mobile    0   0  \n",
       "2            6  Chrome Mobile WebView    0   1  \n",
       "3            6               Facebook    0   0  \n",
       "4            6          Chrome Mobile    0   0  "
      ]
     },
     "execution_count": 81,
     "metadata": {},
     "output_type": "execute_result"
    }
   ],
   "source": [
    "ads_data = data[['auction_id','experiment', 'device_make','platform_os','browser','yes','no']]\n",
    "ads_data.head()"
   ]
  },
  {
   "cell_type": "code",
   "execution_count": 82,
   "metadata": {},
   "outputs": [
    {
     "data": {
      "text/plain": [
       "Index(['auction_id', 'experiment', 'device_make', 'platform_os', 'browser',\n",
       "       'yes', 'no'],\n",
       "      dtype='object')"
      ]
     },
     "execution_count": 82,
     "metadata": {},
     "output_type": "execute_result"
    }
   ],
   "source": [
    "ads_data.columns"
   ]
  },
  {
   "cell_type": "code",
   "execution_count": 83,
   "metadata": {},
   "outputs": [
    {
     "data": {
      "text/plain": [
       "Chrome Mobile                 4554\n",
       "Chrome Mobile WebView         1489\n",
       "Samsung Internet               824\n",
       "Facebook                       764\n",
       "Mobile Safari                  337\n",
       "Chrome Mobile iOS               51\n",
       "Mobile Safari UI/WKWebView      44\n",
       "Chrome                           3\n",
       "Pinterest                        3\n",
       "Opera Mobile                     3\n",
       "Opera Mini                       1\n",
       "Edge Mobile                      1\n",
       "Android                          1\n",
       "Firefox Mobile                   1\n",
       "Puffin                           1\n",
       "Name: browser, dtype: int64"
      ]
     },
     "execution_count": 83,
     "metadata": {},
     "output_type": "execute_result"
    }
   ],
   "source": [
    "ads_data['browser'].value_counts()"
   ]
  },
  {
   "cell_type": "code",
   "execution_count": 84,
   "metadata": {},
   "outputs": [
    {
     "data": {
      "text/plain": [
       "control    4071\n",
       "exposed    4006\n",
       "Name: experiment, dtype: int64"
      ]
     },
     "execution_count": 84,
     "metadata": {},
     "output_type": "execute_result"
    }
   ],
   "source": [
    "ads_data['experiment'].value_counts()"
   ]
  },
  {
   "cell_type": "code",
   "execution_count": 85,
   "metadata": {},
   "outputs": [
    {
     "data": {
      "text/plain": [
       "6    7648\n",
       "5     428\n",
       "7       1\n",
       "Name: platform_os, dtype: int64"
      ]
     },
     "execution_count": 85,
     "metadata": {},
     "output_type": "execute_result"
    }
   ],
   "source": [
    "ads_data['platform_os'].value_counts()"
   ]
  },
  {
   "cell_type": "code",
   "execution_count": 86,
   "metadata": {},
   "outputs": [
    {
     "name": "stdout",
     "output_type": "stream",
     "text": [
      "Amount of duplicates: 0\n"
     ]
    }
   ],
   "source": [
    "num_duplicates = sum(ads_data.duplicated(subset=['auction_id']))\n",
    "\n",
    "print(f'Amount of duplicates: {num_duplicates}')"
   ]
  },
  {
   "cell_type": "code",
   "execution_count": 87,
   "metadata": {},
   "outputs": [
    {
     "data": {
      "image/png": "[encoded data removed]",
      "text/plain": [
       "<Figure size 1080x432 with 1 Axes>"
      ]
     },
     "metadata": {},
     "output_type": "display_data"
    }
   ],
   "source": [
    "plt.figure(figsize=(15,6))\n",
    "sns.lineplot(data=data, x='date', y='no', hue='experiment', ci=False)\n",
    "plt.show()"
   ]
  },
  {
   "cell_type": "code",
   "execution_count": 88,
   "metadata": {},
   "outputs": [
    {
     "data": {
      "image/png": "[encoded data removed]",
      "text/plain": [
       "<Figure size 1080x432 with 1 Axes>"
      ]
     },
     "metadata": {},
     "output_type": "display_data"
    }
   ],
   "source": [
    "plt.figure(figsize=(15,6))\n",
    "sns.lineplot(data=data, x='date', y='yes', hue='experiment', ci=False)\n",
    "plt.show()"
   ]
  },
  {
   "cell_type": "markdown",
   "metadata": {},
   "source": [
    "## So till now! \n",
    "Data has columns: \n",
    "* experiment:   group the user belongs to - control or exposed\n",
    "* browser:      the name of the browser the user used\n",
    "* yes 1 :       if the user chooses the “Yes”  questionnaire |\n",
    "* no 1 :        if the user chooses the “No”  questionnaire |\n"
   ]
  },
  {
   "cell_type": "markdown",
   "metadata": {},
   "source": [
    "## Fuctions ..."
   ]
  },
  {
   "cell_type": "code",
   "execution_count": 89,
   "metadata": {},
   "outputs": [],
   "source": [
    "def get_category_percent(row, decimal=1):\n",
    "    '''\n",
    "    Get percent of value distributed amoung colums\n",
    "    :param row: list of columns from pandas dataframe\n",
    "    '''\n",
    "    \n",
    "    return round(row/max(row)*100, decimal)"
   ]
  },
  {
   "cell_type": "code",
   "execution_count": 90,
   "metadata": {},
   "outputs": [],
   "source": [
    "# We will transform the browser names .... to clean the values\n",
    "\n",
    "def get_browser(row):\n",
    "    '''\n",
    "    Map various browser name with general one\n",
    "    :param row: browser column of pandas dataframe\n",
    "    \n",
    "    '''\n",
    "    \n",
    "    browser = {'Chrome Mobile':'Chrome', \n",
    "                'Chrome Mobile WebView':'Chrome', \n",
    "                'Facebook':'Facebook',\n",
    "                'Mobile Safari': 'Safari',\n",
    "                'Chrome Mobile iOS':'Chrome', \n",
    "                'Samsung Internet':'Samsung',\n",
    "                'Mobile Safari UI/WKWebView':'Safari', \n",
    "                'Chrome':'Chrome',\n",
    "                'Opera Mini':'Opera',\n",
    "                'Edge Mobile':'Edge',\n",
    "                'Android':'Android',\n",
    "                'Pinterest':'Pinterest',\n",
    "                'Opera Mobile':'Opera',\n",
    "                'Firefox Mobile':'Firefox',\n",
    "                'Puffin':'Puffin'}\n",
    "    \n",
    "    return browser[row]\n",
    "    "
   ]
  },
  {
   "cell_type": "code",
   "execution_count": 91,
   "metadata": {},
   "outputs": [],
   "source": [
    "## Create a response column, to summarise the response as yes(1), no(1), no response(0)\n",
    "\n",
    "def get_response(row):\n",
    "    '''\n",
    "    Create response column with ecnoded response values\n",
    "    :param row: list of ['yes', 'no'] columns of pandas dataframe\n",
    "    \n",
    "    '''\n",
    "    \n",
    "    if row[0] == 1:\n",
    "        res = 'yes'\n",
    "    elif row[1] == 1:\n",
    "        res = 'no'\n",
    "    else:\n",
    "        res = 'no response'\n",
    "        \n",
    "    return res"
   ]
  },
  {
   "cell_type": "code",
   "execution_count": 92,
   "metadata": {},
   "outputs": [
    {
     "data": {
      "image/png": "[encoded data removed]",
      "text/plain": [
       "<Figure size 796.875x360 with 2 Axes>"
      ]
     },
     "metadata": {},
     "output_type": "display_data"
    }
   ],
   "source": [
    "ads_data['response'] = ads_data[['yes', 'no']].apply(get_response, axis=1)\n",
    "\n",
    "sns.displot(ads_data.sort_values(by='experiment'), x='response', col='experiment', hue='experiment', alpha=1)\n",
    "\n",
    "plt.show()"
   ]
  },
  {
   "cell_type": "code",
   "execution_count": 93,
   "metadata": {},
   "outputs": [
    {
     "data": {
      "text/html": [
       "<div>\n",
       "<style scoped>\n",
       "    .dataframe tbody tr th:only-of-type {\n",
       "        vertical-align: middle;\n",
       "    }\n",
       "\n",
       "    .dataframe tbody tr th {\n",
       "        vertical-align: top;\n",
       "    }\n",
       "\n",
       "    .dataframe thead th {\n",
       "        text-align: right;\n",
       "    }\n",
       "</style>\n",
       "<table border=\"1\" class=\"dataframe\">\n",
       "  <thead>\n",
       "    <tr style=\"text-align: right;\">\n",
       "      <th></th>\n",
       "      <th>auction_id</th>\n",
       "      <th>experiment</th>\n",
       "      <th>device_make</th>\n",
       "      <th>platform_os</th>\n",
       "      <th>browser</th>\n",
       "      <th>yes</th>\n",
       "      <th>no</th>\n",
       "      <th>response</th>\n",
       "    </tr>\n",
       "  </thead>\n",
       "  <tbody>\n",
       "    <tr>\n",
       "      <th>0</th>\n",
       "      <td>0008ef63-77a7-448b-bd1e-075f42c55e39</td>\n",
       "      <td>exposed</td>\n",
       "      <td>Generic Smartphone</td>\n",
       "      <td>6</td>\n",
       "      <td>Chrome Mobile</td>\n",
       "      <td>0</td>\n",
       "      <td>0</td>\n",
       "      <td>no response</td>\n",
       "    </tr>\n",
       "    <tr>\n",
       "      <th>1</th>\n",
       "      <td>000eabc5-17ce-4137-8efe-44734d914446</td>\n",
       "      <td>exposed</td>\n",
       "      <td>Generic Smartphone</td>\n",
       "      <td>6</td>\n",
       "      <td>Chrome Mobile</td>\n",
       "      <td>0</td>\n",
       "      <td>0</td>\n",
       "      <td>no response</td>\n",
       "    </tr>\n",
       "    <tr>\n",
       "      <th>2</th>\n",
       "      <td>0016d14a-ae18-4a02-a204-6ba53b52f2ed</td>\n",
       "      <td>exposed</td>\n",
       "      <td>E5823</td>\n",
       "      <td>6</td>\n",
       "      <td>Chrome Mobile WebView</td>\n",
       "      <td>0</td>\n",
       "      <td>1</td>\n",
       "      <td>no</td>\n",
       "    </tr>\n",
       "    <tr>\n",
       "      <th>3</th>\n",
       "      <td>00187412-2932-4542-a8ef-3633901c98d9</td>\n",
       "      <td>control</td>\n",
       "      <td>Samsung SM-A705FN</td>\n",
       "      <td>6</td>\n",
       "      <td>Facebook</td>\n",
       "      <td>0</td>\n",
       "      <td>0</td>\n",
       "      <td>no response</td>\n",
       "    </tr>\n",
       "    <tr>\n",
       "      <th>4</th>\n",
       "      <td>001a7785-d3fe-4e11-a344-c8735acacc2c</td>\n",
       "      <td>control</td>\n",
       "      <td>Generic Smartphone</td>\n",
       "      <td>6</td>\n",
       "      <td>Chrome Mobile</td>\n",
       "      <td>0</td>\n",
       "      <td>0</td>\n",
       "      <td>no response</td>\n",
       "    </tr>\n",
       "  </tbody>\n",
       "</table>\n",
       "</div>"
      ],
      "text/plain": [
       "                             auction_id experiment         device_make  \\\n",
       "0  0008ef63-77a7-448b-bd1e-075f42c55e39    exposed  Generic Smartphone   \n",
       "1  000eabc5-17ce-4137-8efe-44734d914446    exposed  Generic Smartphone   \n",
       "2  0016d14a-ae18-4a02-a204-6ba53b52f2ed    exposed               E5823   \n",
       "3  00187412-2932-4542-a8ef-3633901c98d9    control   Samsung SM-A705FN   \n",
       "4  001a7785-d3fe-4e11-a344-c8735acacc2c    control  Generic Smartphone   \n",
       "\n",
       "   platform_os                browser  yes  no     response  \n",
       "0            6          Chrome Mobile    0   0  no response  \n",
       "1            6          Chrome Mobile    0   0  no response  \n",
       "2            6  Chrome Mobile WebView    0   1           no  \n",
       "3            6               Facebook    0   0  no response  \n",
       "4            6          Chrome Mobile    0   0  no response  "
      ]
     },
     "execution_count": 93,
     "metadata": {},
     "output_type": "execute_result"
    }
   ],
   "source": [
    "ads_data.head()"
   ]
  },
  {
   "cell_type": "code",
   "execution_count": 94,
   "metadata": {},
   "outputs": [
    {
     "data": {
      "text/html": [
       "<div>\n",
       "<style scoped>\n",
       "    .dataframe tbody tr th:only-of-type {\n",
       "        vertical-align: middle;\n",
       "    }\n",
       "\n",
       "    .dataframe tbody tr th {\n",
       "        vertical-align: top;\n",
       "    }\n",
       "\n",
       "    .dataframe thead th {\n",
       "        text-align: right;\n",
       "    }\n",
       "</style>\n",
       "<table border=\"1\" class=\"dataframe\">\n",
       "  <thead>\n",
       "    <tr style=\"text-align: right;\">\n",
       "      <th>response</th>\n",
       "      <th>no</th>\n",
       "      <th>no response</th>\n",
       "      <th>yes</th>\n",
       "      <th>total</th>\n",
       "    </tr>\n",
       "    <tr>\n",
       "      <th>experiment</th>\n",
       "      <th></th>\n",
       "      <th></th>\n",
       "      <th></th>\n",
       "      <th></th>\n",
       "    </tr>\n",
       "  </thead>\n",
       "  <tbody>\n",
       "    <tr>\n",
       "      <th>control</th>\n",
       "      <td>322</td>\n",
       "      <td>3485</td>\n",
       "      <td>264</td>\n",
       "      <td>4071</td>\n",
       "    </tr>\n",
       "    <tr>\n",
       "      <th>exposed</th>\n",
       "      <td>349</td>\n",
       "      <td>3349</td>\n",
       "      <td>308</td>\n",
       "      <td>4006</td>\n",
       "    </tr>\n",
       "  </tbody>\n",
       "</table>\n",
       "</div>"
      ],
      "text/plain": [
       "response     no  no response  yes  total\n",
       "experiment                              \n",
       "control     322         3485  264   4071\n",
       "exposed     349         3349  308   4006"
      ]
     },
     "metadata": {},
     "output_type": "display_data"
    }
   ],
   "source": [
    "response_summary = pd.pivot_table(data = ads_data, index='experiment', columns='response', aggfunc='count')['auction_id']\n",
    "\n",
    "response_summary['total'] = response_summary.apply(sum, axis=1)\n",
    "response_summary\n",
    "\n",
    "\n",
    "display(response_summary)"
   ]
  },
  {
   "cell_type": "code",
   "execution_count": 95,
   "metadata": {},
   "outputs": [
    {
     "data": {
      "text/html": [
       "<div>\n",
       "<style scoped>\n",
       "    .dataframe tbody tr th:only-of-type {\n",
       "        vertical-align: middle;\n",
       "    }\n",
       "\n",
       "    .dataframe tbody tr th {\n",
       "        vertical-align: top;\n",
       "    }\n",
       "\n",
       "    .dataframe thead th {\n",
       "        text-align: right;\n",
       "    }\n",
       "</style>\n",
       "<table border=\"1\" class=\"dataframe\">\n",
       "  <thead>\n",
       "    <tr style=\"text-align: right;\">\n",
       "      <th>response summary %</th>\n",
       "      <th>no</th>\n",
       "      <th>no response</th>\n",
       "      <th>yes</th>\n",
       "    </tr>\n",
       "    <tr>\n",
       "      <th>experiment</th>\n",
       "      <th></th>\n",
       "      <th></th>\n",
       "      <th></th>\n",
       "    </tr>\n",
       "  </thead>\n",
       "  <tbody>\n",
       "    <tr>\n",
       "      <th>control</th>\n",
       "      <td>7.9</td>\n",
       "      <td>85.6</td>\n",
       "      <td>6.5</td>\n",
       "    </tr>\n",
       "    <tr>\n",
       "      <th>exposed</th>\n",
       "      <td>8.7</td>\n",
       "      <td>83.6</td>\n",
       "      <td>7.7</td>\n",
       "    </tr>\n",
       "  </tbody>\n",
       "</table>\n",
       "</div>"
      ],
      "text/plain": [
       "response summary %   no  no response  yes\n",
       "experiment                               \n",
       "control             7.9         85.6  6.5\n",
       "exposed             8.7         83.6  7.7"
      ]
     },
     "execution_count": 95,
     "metadata": {},
     "output_type": "execute_result"
    }
   ],
   "source": [
    "response_summary = response_summary.apply(get_category_percent, axis=1)\n",
    "\n",
    "response_summary.columns.name = 'response summary %'\n",
    "\n",
    "response_summary = response_summary[['no','no response','yes']]\n",
    "response_summary"
   ]
  },
  {
   "cell_type": "markdown",
   "metadata": {},
   "source": [
    "## Let's converge to the data to include only those users who responded ..."
   ]
  },
  {
   "cell_type": "code",
   "execution_count": 96,
   "metadata": {},
   "outputs": [
    {
     "name": "stdout",
     "output_type": "stream",
     "text": [
      "<class 'pandas.core.frame.DataFrame'>\n",
      "Int64Index: 1243 entries, 2 to 8071\n",
      "Data columns (total 8 columns):\n",
      " #   Column       Non-Null Count  Dtype \n",
      "---  ------       --------------  ----- \n",
      " 0   auction_id   1243 non-null   object\n",
      " 1   experiment   1243 non-null   object\n",
      " 2   device_make  1243 non-null   object\n",
      " 3   platform_os  1243 non-null   int64 \n",
      " 4   browser      1243 non-null   object\n",
      " 5   yes          1243 non-null   int64 \n",
      " 6   no           1243 non-null   int64 \n",
      " 7   response     1243 non-null   object\n",
      "dtypes: int64(3), object(5)\n",
      "memory usage: 87.4+ KB\n"
     ]
    }
   ],
   "source": [
    "df = ads_data[(ads_data['yes'] == 1) | (ads_data['no'] == 1)]\n",
    "\n",
    "df.info()"
   ]
  },
  {
   "cell_type": "code",
   "execution_count": 97,
   "metadata": {},
   "outputs": [
    {
     "data": {
      "image/png": "[encoded data removed]",
      "text/plain": [
       "<Figure size 436.875x360 with 2 Axes>"
      ]
     },
     "metadata": {},
     "output_type": "display_data"
    }
   ],
   "source": [
    "sns.displot(df.sort_values(by='experiment'), x='response', \n",
    "            col='experiment', hue='experiment', alpha=1, height=5, aspect=0.5)\n",
    "\n",
    "plt.show()"
   ]
  },
  {
   "cell_type": "code",
   "execution_count": 98,
   "metadata": {},
   "outputs": [
    {
     "data": {
      "text/html": [
       "<div>\n",
       "<style scoped>\n",
       "    .dataframe tbody tr th:only-of-type {\n",
       "        vertical-align: middle;\n",
       "    }\n",
       "\n",
       "    .dataframe tbody tr th {\n",
       "        vertical-align: top;\n",
       "    }\n",
       "\n",
       "    .dataframe thead th {\n",
       "        text-align: right;\n",
       "    }\n",
       "</style>\n",
       "<table border=\"1\" class=\"dataframe\">\n",
       "  <thead>\n",
       "    <tr style=\"text-align: right;\">\n",
       "      <th>response</th>\n",
       "      <th>no</th>\n",
       "      <th>yes</th>\n",
       "      <th>total</th>\n",
       "    </tr>\n",
       "    <tr>\n",
       "      <th>experiment</th>\n",
       "      <th></th>\n",
       "      <th></th>\n",
       "      <th></th>\n",
       "    </tr>\n",
       "  </thead>\n",
       "  <tbody>\n",
       "    <tr>\n",
       "      <th>control</th>\n",
       "      <td>322</td>\n",
       "      <td>264</td>\n",
       "      <td>586</td>\n",
       "    </tr>\n",
       "    <tr>\n",
       "      <th>exposed</th>\n",
       "      <td>349</td>\n",
       "      <td>308</td>\n",
       "      <td>657</td>\n",
       "    </tr>\n",
       "  </tbody>\n",
       "</table>\n",
       "</div>"
      ],
      "text/plain": [
       "response     no  yes  total\n",
       "experiment                 \n",
       "control     322  264    586\n",
       "exposed     349  308    657"
      ]
     },
     "execution_count": 98,
     "metadata": {},
     "output_type": "execute_result"
    }
   ],
   "source": [
    "\n",
    "df_response = pd.pivot_table(data=df, index='experiment', columns='response', aggfunc='count')['auction_id']\n",
    "\n",
    "df_response['total'] = df_response.apply(sum, axis=1)\n",
    "df_response"
   ]
  },
  {
   "cell_type": "code",
   "execution_count": 99,
   "metadata": {},
   "outputs": [
    {
     "data": {
      "text/html": [
       "<div>\n",
       "<style scoped>\n",
       "    .dataframe tbody tr th:only-of-type {\n",
       "        vertical-align: middle;\n",
       "    }\n",
       "\n",
       "    .dataframe tbody tr th {\n",
       "        vertical-align: top;\n",
       "    }\n",
       "\n",
       "    .dataframe thead th {\n",
       "        text-align: right;\n",
       "    }\n",
       "</style>\n",
       "<table border=\"1\" class=\"dataframe\">\n",
       "  <thead>\n",
       "    <tr style=\"text-align: right;\">\n",
       "      <th>response summary</th>\n",
       "      <th>no</th>\n",
       "      <th>yes</th>\n",
       "    </tr>\n",
       "    <tr>\n",
       "      <th>experiment</th>\n",
       "      <th></th>\n",
       "      <th></th>\n",
       "    </tr>\n",
       "  </thead>\n",
       "  <tbody>\n",
       "    <tr>\n",
       "      <th>control</th>\n",
       "      <td>54.9</td>\n",
       "      <td>45.1</td>\n",
       "    </tr>\n",
       "    <tr>\n",
       "      <th>exposed</th>\n",
       "      <td>53.1</td>\n",
       "      <td>46.9</td>\n",
       "    </tr>\n",
       "  </tbody>\n",
       "</table>\n",
       "</div>"
      ],
      "text/plain": [
       "response summary    no   yes\n",
       "experiment                  \n",
       "control           54.9  45.1\n",
       "exposed           53.1  46.9"
      ]
     },
     "metadata": {},
     "output_type": "display_data"
    }
   ],
   "source": [
    "df_response = df_response.apply(get_category_percent, axis=1)\n",
    "\n",
    "df_response.columns.name = 'response summary'\n",
    "\n",
    "df_response = df_response[['no','yes']]\n",
    "\n",
    "display(df_response)"
   ]
  },
  {
   "cell_type": "code",
   "execution_count": 100,
   "metadata": {},
   "outputs": [
    {
     "data": {
      "image/png": "[encoded data removed]",
      "text/plain": [
       "<Figure size 288x288 with 1 Axes>"
      ]
     },
     "metadata": {},
     "output_type": "display_data"
    },
    {
     "name": "stdout",
     "output_type": "stream",
     "text": [
      "Percent of users in control group: 47.1%\n",
      "Percent of users in exposed group: 52.9%\n"
     ]
    }
   ],
   "source": [
    "# categorical plot \n",
    "sns.catplot(data=df.sort_values(by='experiment'), x='experiment', \n",
    "            kind='count', height=4).set(title='Amount of users in exposed and control groups')\n",
    "plt.show()\n",
    "\n",
    "print('Percent of users in control group: {:.1%}'.format(len(df[df['experiment']=='control'])/len(df)))\n",
    "print('Percent of users in exposed group: {:.1%}'.format(len(df[df['experiment']=='exposed'])/len(df)))"
   ]
  },
  {
   "cell_type": "markdown",
   "metadata": {},
   "source": [
    "#### Browser ..."
   ]
  },
  {
   "cell_type": "code",
   "execution_count": 101,
   "metadata": {},
   "outputs": [
    {
     "data": {
      "image/png": "[encoded data removed]",
      "text/plain": [
       "<Figure size 796.875x360 with 2 Axes>"
      ]
     },
     "metadata": {},
     "output_type": "display_data"
    }
   ],
   "source": [
    "# Create column 'general_browser'\n",
    "df['general_browser'] = df['browser'].apply(get_browser)\n",
    "\n",
    "# Plot\n",
    "browser_dist = sns.displot(df.sort_values(by='experiment'), x='general_browser', \n",
    "                col='experiment', hue='experiment', alpha=1)\n",
    "\n",
    "browser_dist.set_xticklabels(rotation=45)\n",
    "plt.show()\n"
   ]
  },
  {
   "cell_type": "code",
   "execution_count": 102,
   "metadata": {},
   "outputs": [
    {
     "data": {
      "text/html": [
       "<div>\n",
       "<style scoped>\n",
       "    .dataframe tbody tr th:only-of-type {\n",
       "        vertical-align: middle;\n",
       "    }\n",
       "\n",
       "    .dataframe tbody tr th {\n",
       "        vertical-align: top;\n",
       "    }\n",
       "\n",
       "    .dataframe thead th {\n",
       "        text-align: right;\n",
       "    }\n",
       "</style>\n",
       "<table border=\"1\" class=\"dataframe\">\n",
       "  <thead>\n",
       "    <tr style=\"text-align: right;\">\n",
       "      <th></th>\n",
       "      <th>auction_id</th>\n",
       "      <th>experiment</th>\n",
       "      <th>device_make</th>\n",
       "      <th>platform_os</th>\n",
       "      <th>browser</th>\n",
       "      <th>yes</th>\n",
       "      <th>no</th>\n",
       "      <th>response</th>\n",
       "      <th>general_browser</th>\n",
       "    </tr>\n",
       "  </thead>\n",
       "  <tbody>\n",
       "    <tr>\n",
       "      <th>2</th>\n",
       "      <td>0016d14a-ae18-4a02-a204-6ba53b52f2ed</td>\n",
       "      <td>exposed</td>\n",
       "      <td>E5823</td>\n",
       "      <td>6</td>\n",
       "      <td>Chrome Mobile WebView</td>\n",
       "      <td>0</td>\n",
       "      <td>1</td>\n",
       "      <td>no</td>\n",
       "      <td>Chrome</td>\n",
       "    </tr>\n",
       "    <tr>\n",
       "      <th>16</th>\n",
       "      <td>008aafdf-deef-4482-8fec-d98e3da054da</td>\n",
       "      <td>exposed</td>\n",
       "      <td>Generic Smartphone</td>\n",
       "      <td>6</td>\n",
       "      <td>Chrome Mobile</td>\n",
       "      <td>1</td>\n",
       "      <td>0</td>\n",
       "      <td>yes</td>\n",
       "      <td>Chrome</td>\n",
       "    </tr>\n",
       "    <tr>\n",
       "      <th>20</th>\n",
       "      <td>00a1384a-5118-4d1b-925b-6cdada50318d</td>\n",
       "      <td>exposed</td>\n",
       "      <td>Generic Smartphone</td>\n",
       "      <td>6</td>\n",
       "      <td>Chrome Mobile</td>\n",
       "      <td>0</td>\n",
       "      <td>1</td>\n",
       "      <td>no</td>\n",
       "      <td>Chrome</td>\n",
       "    </tr>\n",
       "    <tr>\n",
       "      <th>23</th>\n",
       "      <td>00b6fadb-10bd-49e3-a778-290da82f7a8d</td>\n",
       "      <td>control</td>\n",
       "      <td>Samsung SM-A202F</td>\n",
       "      <td>6</td>\n",
       "      <td>Facebook</td>\n",
       "      <td>1</td>\n",
       "      <td>0</td>\n",
       "      <td>yes</td>\n",
       "      <td>Facebook</td>\n",
       "    </tr>\n",
       "    <tr>\n",
       "      <th>27</th>\n",
       "      <td>00ebf4a8-060f-4b99-93ac-c62724399483</td>\n",
       "      <td>control</td>\n",
       "      <td>Generic Smartphone</td>\n",
       "      <td>6</td>\n",
       "      <td>Chrome Mobile</td>\n",
       "      <td>0</td>\n",
       "      <td>1</td>\n",
       "      <td>no</td>\n",
       "      <td>Chrome</td>\n",
       "    </tr>\n",
       "  </tbody>\n",
       "</table>\n",
       "</div>"
      ],
      "text/plain": [
       "                              auction_id experiment         device_make  \\\n",
       "2   0016d14a-ae18-4a02-a204-6ba53b52f2ed    exposed               E5823   \n",
       "16  008aafdf-deef-4482-8fec-d98e3da054da    exposed  Generic Smartphone   \n",
       "20  00a1384a-5118-4d1b-925b-6cdada50318d    exposed  Generic Smartphone   \n",
       "23  00b6fadb-10bd-49e3-a778-290da82f7a8d    control    Samsung SM-A202F   \n",
       "27  00ebf4a8-060f-4b99-93ac-c62724399483    control  Generic Smartphone   \n",
       "\n",
       "    platform_os                browser  yes  no response general_browser  \n",
       "2             6  Chrome Mobile WebView    0   1       no          Chrome  \n",
       "16            6          Chrome Mobile    1   0      yes          Chrome  \n",
       "20            6          Chrome Mobile    0   1       no          Chrome  \n",
       "23            6               Facebook    1   0      yes        Facebook  \n",
       "27            6          Chrome Mobile    0   1       no          Chrome  "
      ]
     },
     "execution_count": 102,
     "metadata": {},
     "output_type": "execute_result"
    }
   ],
   "source": [
    "df.head()"
   ]
  },
  {
   "cell_type": "code",
   "execution_count": 103,
   "metadata": {},
   "outputs": [
    {
     "data": {
      "text/html": [
       "<div>\n",
       "<style scoped>\n",
       "    .dataframe tbody tr th:only-of-type {\n",
       "        vertical-align: middle;\n",
       "    }\n",
       "\n",
       "    .dataframe tbody tr th {\n",
       "        vertical-align: top;\n",
       "    }\n",
       "\n",
       "    .dataframe thead th {\n",
       "        text-align: right;\n",
       "    }\n",
       "</style>\n",
       "<table border=\"1\" class=\"dataframe\">\n",
       "  <thead>\n",
       "    <tr style=\"text-align: right;\">\n",
       "      <th>browser usage %</th>\n",
       "      <th>Samsung</th>\n",
       "      <th>Chrome</th>\n",
       "      <th>Facebook</th>\n",
       "      <th>Safari</th>\n",
       "    </tr>\n",
       "    <tr>\n",
       "      <th>experiment</th>\n",
       "      <th></th>\n",
       "      <th></th>\n",
       "      <th></th>\n",
       "      <th></th>\n",
       "    </tr>\n",
       "  </thead>\n",
       "  <tbody>\n",
       "    <tr>\n",
       "      <th>control</th>\n",
       "      <td>15.0</td>\n",
       "      <td>63.7</td>\n",
       "      <td>19.1</td>\n",
       "      <td>2.2</td>\n",
       "    </tr>\n",
       "    <tr>\n",
       "      <th>exposed</th>\n",
       "      <td>8.7</td>\n",
       "      <td>84.0</td>\n",
       "      <td>6.7</td>\n",
       "      <td>0.6</td>\n",
       "    </tr>\n",
       "  </tbody>\n",
       "</table>\n",
       "</div>"
      ],
      "text/plain": [
       "browser usage %  Samsung  Chrome  Facebook  Safari\n",
       "experiment                                        \n",
       "control             15.0    63.7      19.1     2.2\n",
       "exposed              8.7    84.0       6.7     0.6"
      ]
     },
     "metadata": {},
     "output_type": "display_data"
    }
   ],
   "source": [
    "## Calculate percentage\n",
    "browser_used = pd.pivot_table(data=df, index='experiment', columns='general_browser', aggfunc='count')['auction_id']\n",
    "\n",
    "browser_used['total'] = browser_used.apply(sum, axis=1)\n",
    "\n",
    "browser_used = browser_used.apply(get_category_percent, axis=1)\n",
    "\n",
    "browser_used.columns.name = 'browser usage %'\n",
    "\n",
    "browser_used.drop(columns='total', inplace=True)\n",
    "\n",
    "browser_used = browser_used[['Samsung', 'Chrome', 'Facebook', 'Safari']]\n",
    "\n",
    "display(browser_used)"
   ]
  },
  {
   "cell_type": "markdown",
   "metadata": {},
   "source": [
    "### Conclusion\n",
    "\n",
    "- 83-85% of users didnt respond to a questionaire\n",
    "\n",
    "\n",
    "- Both groups have conversion rate at around ~ 45-47%\n",
    "\n",
    "\n",
    "- Sizes of control and exposed groups are similar\n",
    "\n",
    "\n",
    "- Most users in both groups use Chrome browser - 63.7 % for control group, 84.0 % for exposed group\n",
    "\n",
    "\n",
    "- Majority of platforms in both groups are represented by platform_os - 6"
   ]
  },
  {
   "cell_type": "markdown",
   "metadata": {},
   "source": [
    "## A/B Test"
   ]
  },
  {
   "cell_type": "markdown",
   "metadata": {},
   "source": [
    "Our goal is to analyse the results of A/B test and figure out wherever new disign of ad affects the behavior of users in terms of responding to BIO questionnaire.\n",
    "\n",
    "* **Null Hypothesis Hₒ**: p = pₒ - There is no significant difference between the ad success rate of both groups <br />\n",
    "* **Alternative Hypothesis Hₐ**: p ≠ pₒ - There is significant difference between the ad success rate of \n",
    "both groups.  <br />\n",
    "\n",
    "Given we don’t know if the new design will perform better/worse/equal as our current design, we will perform a two-tailed test\n",
    "Confidence Level: 95% (α=0.05)"
   ]
  },
  {
   "cell_type": "code",
   "execution_count": 104,
   "metadata": {},
   "outputs": [
    {
     "data": {
      "text/html": [
       "<div>\n",
       "<style scoped>\n",
       "    .dataframe tbody tr th:only-of-type {\n",
       "        vertical-align: middle;\n",
       "    }\n",
       "\n",
       "    .dataframe tbody tr th {\n",
       "        vertical-align: top;\n",
       "    }\n",
       "\n",
       "    .dataframe thead th {\n",
       "        text-align: right;\n",
       "    }\n",
       "</style>\n",
       "<table border=\"1\" class=\"dataframe\">\n",
       "  <thead>\n",
       "    <tr style=\"text-align: right;\">\n",
       "      <th></th>\n",
       "      <th>auction_id</th>\n",
       "      <th>experiment</th>\n",
       "      <th>device_make</th>\n",
       "      <th>platform_os</th>\n",
       "      <th>browser</th>\n",
       "      <th>yes</th>\n",
       "      <th>no</th>\n",
       "      <th>response</th>\n",
       "      <th>general_browser</th>\n",
       "    </tr>\n",
       "  </thead>\n",
       "  <tbody>\n",
       "    <tr>\n",
       "      <th>2</th>\n",
       "      <td>0016d14a-ae18-4a02-a204-6ba53b52f2ed</td>\n",
       "      <td>exposed</td>\n",
       "      <td>E5823</td>\n",
       "      <td>6</td>\n",
       "      <td>Chrome Mobile WebView</td>\n",
       "      <td>0</td>\n",
       "      <td>1</td>\n",
       "      <td>no</td>\n",
       "      <td>Chrome</td>\n",
       "    </tr>\n",
       "    <tr>\n",
       "      <th>16</th>\n",
       "      <td>008aafdf-deef-4482-8fec-d98e3da054da</td>\n",
       "      <td>exposed</td>\n",
       "      <td>Generic Smartphone</td>\n",
       "      <td>6</td>\n",
       "      <td>Chrome Mobile</td>\n",
       "      <td>1</td>\n",
       "      <td>0</td>\n",
       "      <td>yes</td>\n",
       "      <td>Chrome</td>\n",
       "    </tr>\n",
       "    <tr>\n",
       "      <th>20</th>\n",
       "      <td>00a1384a-5118-4d1b-925b-6cdada50318d</td>\n",
       "      <td>exposed</td>\n",
       "      <td>Generic Smartphone</td>\n",
       "      <td>6</td>\n",
       "      <td>Chrome Mobile</td>\n",
       "      <td>0</td>\n",
       "      <td>1</td>\n",
       "      <td>no</td>\n",
       "      <td>Chrome</td>\n",
       "    </tr>\n",
       "    <tr>\n",
       "      <th>23</th>\n",
       "      <td>00b6fadb-10bd-49e3-a778-290da82f7a8d</td>\n",
       "      <td>control</td>\n",
       "      <td>Samsung SM-A202F</td>\n",
       "      <td>6</td>\n",
       "      <td>Facebook</td>\n",
       "      <td>1</td>\n",
       "      <td>0</td>\n",
       "      <td>yes</td>\n",
       "      <td>Facebook</td>\n",
       "    </tr>\n",
       "    <tr>\n",
       "      <th>27</th>\n",
       "      <td>00ebf4a8-060f-4b99-93ac-c62724399483</td>\n",
       "      <td>control</td>\n",
       "      <td>Generic Smartphone</td>\n",
       "      <td>6</td>\n",
       "      <td>Chrome Mobile</td>\n",
       "      <td>0</td>\n",
       "      <td>1</td>\n",
       "      <td>no</td>\n",
       "      <td>Chrome</td>\n",
       "    </tr>\n",
       "  </tbody>\n",
       "</table>\n",
       "</div>"
      ],
      "text/plain": [
       "                              auction_id experiment         device_make  \\\n",
       "2   0016d14a-ae18-4a02-a204-6ba53b52f2ed    exposed               E5823   \n",
       "16  008aafdf-deef-4482-8fec-d98e3da054da    exposed  Generic Smartphone   \n",
       "20  00a1384a-5118-4d1b-925b-6cdada50318d    exposed  Generic Smartphone   \n",
       "23  00b6fadb-10bd-49e3-a778-290da82f7a8d    control    Samsung SM-A202F   \n",
       "27  00ebf4a8-060f-4b99-93ac-c62724399483    control  Generic Smartphone   \n",
       "\n",
       "    platform_os                browser  yes  no response general_browser  \n",
       "2             6  Chrome Mobile WebView    0   1       no          Chrome  \n",
       "16            6          Chrome Mobile    1   0      yes          Chrome  \n",
       "20            6          Chrome Mobile    0   1       no          Chrome  \n",
       "23            6               Facebook    1   0      yes        Facebook  \n",
       "27            6          Chrome Mobile    0   1       no          Chrome  "
      ]
     },
     "execution_count": 104,
     "metadata": {},
     "output_type": "execute_result"
    }
   ],
   "source": [
    "df.head()"
   ]
  },
  {
   "cell_type": "code",
   "execution_count": 105,
   "metadata": {},
   "outputs": [
    {
     "data": {
      "text/plain": [
       "1243"
      ]
     },
     "execution_count": 105,
     "metadata": {},
     "output_type": "execute_result"
    }
   ],
   "source": [
    "len(df)"
   ]
  },
  {
   "cell_type": "code",
   "execution_count": 106,
   "metadata": {},
   "outputs": [
    {
     "data": {
      "text/plain": [
       "experiment  response\n",
       "control     no          322\n",
       "            yes         264\n",
       "exposed     no          349\n",
       "            yes         308\n",
       "Name: response, dtype: int64"
      ]
     },
     "execution_count": 106,
     "metadata": {},
     "output_type": "execute_result"
    }
   ],
   "source": [
    "df.groupby('experiment')['response'].value_counts()"
   ]
  },
  {
   "cell_type": "code",
   "execution_count": 107,
   "metadata": {},
   "outputs": [
    {
     "name": "stdout",
     "output_type": "stream",
     "text": [
      "Exposed Group: 657\n",
      "Control Group: 586\n"
     ]
    }
   ],
   "source": [
    "n_E = df[df['experiment'] == 'exposed']['yes'].count()\n",
    "n_C = df[ads_data['experiment'] == 'control']['yes'].count()\n",
    "print('Exposed Group:', n_E)\n",
    "print('Control Group:', n_C)"
   ]
  },
  {
   "cell_type": "code",
   "execution_count": 108,
   "metadata": {},
   "outputs": [
    {
     "name": "stdout",
     "output_type": "stream",
     "text": [
      "0.47\n",
      "0.45\n"
     ]
    }
   ],
   "source": [
    "p_e = df.query('experiment==\"exposed\"')['yes'].mean()\n",
    "p_c = df.query('experiment==\"control\"')['yes'].mean()\n",
    "print(round(p_e,2))\n",
    "print(round(p_c,2))"
   ]
  },
  {
   "cell_type": "code",
   "execution_count": 109,
   "metadata": {},
   "outputs": [
    {
     "data": {
      "image/png": "[encoded data removed]",
      "text/plain": [
       "<Figure size 864x576 with 1 Axes>"
      ]
     },
     "metadata": {},
     "output_type": "display_data"
    }
   ],
   "source": [
    "from scipy.stats import binom\n",
    "plt.figure(figsize=(12,8))\n",
    "# Create x-axis range and Binomial distributions A and B\n",
    "x = np.arange(n_E*p_e - 100, n_C*p_c + 100)\n",
    "binom_a = binom.pmf(x, n_E, p_e)\n",
    "binom_b = binom.pmf(x, n_C, p_c)\n",
    "# Plot Binomial distributions A and B\n",
    "plt.bar(x, binom_a, alpha=0.4, label= 'Exposed' , edgecolor = 'grey')\n",
    "plt.bar(x, binom_b, alpha=0.4, label= 'Control' , edgecolor = 'yellow')\n",
    "plt.xlabel('Response')\n",
    "plt.ylabel('PMF')\n",
    "plt.title('PMF of Response(Binomial distribution)')\n",
    "plt.legend()\n",
    "plt.show()"
   ]
  },
  {
   "cell_type": "markdown",
   "metadata": {},
   "source": [
    "### Lets simulate  ... the distrubution for different sample number to find good sample size"
   ]
  },
  {
   "cell_type": "code",
   "execution_count": 110,
   "metadata": {},
   "outputs": [
    {
     "data": {
      "image/png": "[encoded data removed]",
      "text/plain": [
       "<Figure size 360x360 with 1 Axes>"
      ]
     },
     "metadata": {},
     "output_type": "display_data"
    }
   ],
   "source": [
    "# Set random seed for repeatability\n",
    "np.random.seed(47)\n",
    "# Create an empty list to hold means\n",
    "sampled_means = []\n",
    "# Create loop to simulate 1000 sample means\n",
    "for i in range(1000):\n",
    "    # Take a sample of n=100\n",
    "    sample = df['yes'].sample(200,replace=True)\n",
    "    # Get the sample mean and append to list\n",
    "    sample_mean = np.mean(sample)\n",
    "    sampled_means.append(sample_mean)\n",
    "# Plot distribution\n",
    "sns.displot(sampled_means, kde=True)\n",
    "plt.show()"
   ]
  },
  {
   "cell_type": "code",
   "execution_count": 111,
   "metadata": {},
   "outputs": [],
   "source": [
    "df2 = df.sample(200, replace=True, random_state= 100)"
   ]
  },
  {
   "cell_type": "code",
   "execution_count": 112,
   "metadata": {},
   "outputs": [
    {
     "data": {
      "text/html": [
       "<div>\n",
       "<style scoped>\n",
       "    .dataframe tbody tr th:only-of-type {\n",
       "        vertical-align: middle;\n",
       "    }\n",
       "\n",
       "    .dataframe tbody tr th {\n",
       "        vertical-align: top;\n",
       "    }\n",
       "\n",
       "    .dataframe thead th {\n",
       "        text-align: right;\n",
       "    }\n",
       "</style>\n",
       "<table border=\"1\" class=\"dataframe\">\n",
       "  <thead>\n",
       "    <tr style=\"text-align: right;\">\n",
       "      <th></th>\n",
       "      <th>auction_id</th>\n",
       "      <th>experiment</th>\n",
       "      <th>device_make</th>\n",
       "      <th>platform_os</th>\n",
       "      <th>browser</th>\n",
       "      <th>yes</th>\n",
       "      <th>no</th>\n",
       "      <th>response</th>\n",
       "      <th>general_browser</th>\n",
       "    </tr>\n",
       "  </thead>\n",
       "  <tbody>\n",
       "    <tr>\n",
       "      <th>5322</th>\n",
       "      <td>a89b65d6-4350-4862-9292-12cbafe149d1</td>\n",
       "      <td>control</td>\n",
       "      <td>Generic Smartphone</td>\n",
       "      <td>6</td>\n",
       "      <td>Chrome Mobile</td>\n",
       "      <td>0</td>\n",
       "      <td>1</td>\n",
       "      <td>no</td>\n",
       "      <td>Chrome</td>\n",
       "    </tr>\n",
       "    <tr>\n",
       "      <th>556</th>\n",
       "      <td>1134407e-af87-434f-ac7c-299dff13dae2</td>\n",
       "      <td>control</td>\n",
       "      <td>Samsung SM-A705FN</td>\n",
       "      <td>6</td>\n",
       "      <td>Facebook</td>\n",
       "      <td>0</td>\n",
       "      <td>1</td>\n",
       "      <td>no</td>\n",
       "      <td>Facebook</td>\n",
       "    </tr>\n",
       "    <tr>\n",
       "      <th>2526</th>\n",
       "      <td>516788c6-1843-47f7-b6e1-2ad22a5d1735</td>\n",
       "      <td>exposed</td>\n",
       "      <td>Generic Smartphone</td>\n",
       "      <td>6</td>\n",
       "      <td>Chrome Mobile</td>\n",
       "      <td>0</td>\n",
       "      <td>1</td>\n",
       "      <td>no</td>\n",
       "      <td>Chrome</td>\n",
       "    </tr>\n",
       "    <tr>\n",
       "      <th>358</th>\n",
       "      <td>0af12f96-1167-4717-85c2-e4bab19a6741</td>\n",
       "      <td>exposed</td>\n",
       "      <td>Samsung SM-A405FN</td>\n",
       "      <td>6</td>\n",
       "      <td>Chrome Mobile WebView</td>\n",
       "      <td>1</td>\n",
       "      <td>0</td>\n",
       "      <td>yes</td>\n",
       "      <td>Chrome</td>\n",
       "    </tr>\n",
       "    <tr>\n",
       "      <th>5363</th>\n",
       "      <td>a9a0aa88-f2bf-44a5-8d33-2c77e56f559a</td>\n",
       "      <td>control</td>\n",
       "      <td>Generic Smartphone</td>\n",
       "      <td>6</td>\n",
       "      <td>Chrome Mobile</td>\n",
       "      <td>1</td>\n",
       "      <td>0</td>\n",
       "      <td>yes</td>\n",
       "      <td>Chrome</td>\n",
       "    </tr>\n",
       "    <tr>\n",
       "      <th>...</th>\n",
       "      <td>...</td>\n",
       "      <td>...</td>\n",
       "      <td>...</td>\n",
       "      <td>...</td>\n",
       "      <td>...</td>\n",
       "      <td>...</td>\n",
       "      <td>...</td>\n",
       "      <td>...</td>\n",
       "      <td>...</td>\n",
       "    </tr>\n",
       "    <tr>\n",
       "      <th>4297</th>\n",
       "      <td>896f1a69-489e-4a97-85d0-267cee43f5bf</td>\n",
       "      <td>exposed</td>\n",
       "      <td>Generic Smartphone</td>\n",
       "      <td>6</td>\n",
       "      <td>Chrome Mobile</td>\n",
       "      <td>0</td>\n",
       "      <td>1</td>\n",
       "      <td>no</td>\n",
       "      <td>Chrome</td>\n",
       "    </tr>\n",
       "    <tr>\n",
       "      <th>2364</th>\n",
       "      <td>4d658cfa-53b6-4efe-b38a-b48504c45511</td>\n",
       "      <td>exposed</td>\n",
       "      <td>Generic Smartphone</td>\n",
       "      <td>6</td>\n",
       "      <td>Chrome Mobile</td>\n",
       "      <td>0</td>\n",
       "      <td>1</td>\n",
       "      <td>no</td>\n",
       "      <td>Chrome</td>\n",
       "    </tr>\n",
       "    <tr>\n",
       "      <th>798</th>\n",
       "      <td>19ba2632-0167-4f74-b111-3093781d2aa3</td>\n",
       "      <td>exposed</td>\n",
       "      <td>Samsung SM-G900F</td>\n",
       "      <td>6</td>\n",
       "      <td>Chrome Mobile WebView</td>\n",
       "      <td>1</td>\n",
       "      <td>0</td>\n",
       "      <td>yes</td>\n",
       "      <td>Chrome</td>\n",
       "    </tr>\n",
       "    <tr>\n",
       "      <th>7210</th>\n",
       "      <td>e531bd16-3706-4042-8064-3ae47c953861</td>\n",
       "      <td>exposed</td>\n",
       "      <td>LYA-L09</td>\n",
       "      <td>6</td>\n",
       "      <td>Facebook</td>\n",
       "      <td>0</td>\n",
       "      <td>1</td>\n",
       "      <td>no</td>\n",
       "      <td>Facebook</td>\n",
       "    </tr>\n",
       "    <tr>\n",
       "      <th>5531</th>\n",
       "      <td>af0af3ef-c956-43d9-aa39-08be49ef9b4c</td>\n",
       "      <td>control</td>\n",
       "      <td>Samsung SM-A405FN</td>\n",
       "      <td>6</td>\n",
       "      <td>Samsung Internet</td>\n",
       "      <td>1</td>\n",
       "      <td>0</td>\n",
       "      <td>yes</td>\n",
       "      <td>Samsung</td>\n",
       "    </tr>\n",
       "  </tbody>\n",
       "</table>\n",
       "<p>200 rows × 9 columns</p>\n",
       "</div>"
      ],
      "text/plain": [
       "                                auction_id experiment         device_make  \\\n",
       "5322  a89b65d6-4350-4862-9292-12cbafe149d1    control  Generic Smartphone   \n",
       "556   1134407e-af87-434f-ac7c-299dff13dae2    control   Samsung SM-A705FN   \n",
       "2526  516788c6-1843-47f7-b6e1-2ad22a5d1735    exposed  Generic Smartphone   \n",
       "358   0af12f96-1167-4717-85c2-e4bab19a6741    exposed   Samsung SM-A405FN   \n",
       "5363  a9a0aa88-f2bf-44a5-8d33-2c77e56f559a    control  Generic Smartphone   \n",
       "...                                    ...        ...                 ...   \n",
       "4297  896f1a69-489e-4a97-85d0-267cee43f5bf    exposed  Generic Smartphone   \n",
       "2364  4d658cfa-53b6-4efe-b38a-b48504c45511    exposed  Generic Smartphone   \n",
       "798   19ba2632-0167-4f74-b111-3093781d2aa3    exposed    Samsung SM-G900F   \n",
       "7210  e531bd16-3706-4042-8064-3ae47c953861    exposed             LYA-L09   \n",
       "5531  af0af3ef-c956-43d9-aa39-08be49ef9b4c    control   Samsung SM-A405FN   \n",
       "\n",
       "      platform_os                browser  yes  no response general_browser  \n",
       "5322            6          Chrome Mobile    0   1       no          Chrome  \n",
       "556             6               Facebook    0   1       no        Facebook  \n",
       "2526            6          Chrome Mobile    0   1       no          Chrome  \n",
       "358             6  Chrome Mobile WebView    1   0      yes          Chrome  \n",
       "5363            6          Chrome Mobile    1   0      yes          Chrome  \n",
       "...           ...                    ...  ...  ..      ...             ...  \n",
       "4297            6          Chrome Mobile    0   1       no          Chrome  \n",
       "2364            6          Chrome Mobile    0   1       no          Chrome  \n",
       "798             6  Chrome Mobile WebView    1   0      yes          Chrome  \n",
       "7210            6               Facebook    0   1       no        Facebook  \n",
       "5531            6       Samsung Internet    1   0      yes         Samsung  \n",
       "\n",
       "[200 rows x 9 columns]"
      ]
     },
     "execution_count": 112,
     "metadata": {},
     "output_type": "execute_result"
    }
   ],
   "source": [
    "df2"
   ]
  },
  {
   "cell_type": "code",
   "execution_count": 113,
   "metadata": {},
   "outputs": [
    {
     "data": {
      "text/plain": [
       "experiment  response\n",
       "control     yes         0.526882\n",
       "            no          0.473118\n",
       "exposed     no          0.514019\n",
       "            yes         0.485981\n",
       "Name: response, dtype: float64"
      ]
     },
     "execution_count": 113,
     "metadata": {},
     "output_type": "execute_result"
    }
   ],
   "source": [
    "df2.groupby('experiment')['response'].value_counts(normalize=True)\n",
    "# distribution is perfect among the groups"
   ]
  },
  {
   "cell_type": "markdown",
   "metadata": {},
   "source": [
    "## Fisher's exact test is a statistical test used to determine if there are non random associations between two categorical variables\n",
    "\n",
    "### Since the variables to be tested are categorical ... so we chose fisher test\n",
    "\n",
    "- There are several assumptions for Fisher test:\n",
    "\n",
    "    1. Random sample - in each group data point should be from random sample.\n",
    "\n",
    "    2. Independence - each observation should be independent\n",
    "    \n",
    "    3. Mutually exclusive groups - each category should be mutlually exclusive\n",
    "    \n",
    "    \n",
    "- All of these assupmtions are valid for our case:\n",
    "\n",
    "    1. All users from ech group are random without any particular bias\n",
    "    2. Each user made independent decision\n",
    "    3. Response is mutual - its either 'yes' or 'no'"
   ]
  },
  {
   "cell_type": "code",
   "execution_count": 114,
   "metadata": {},
   "outputs": [
    {
     "data": {
      "text/html": [
       "<div>\n",
       "<style scoped>\n",
       "    .dataframe tbody tr th:only-of-type {\n",
       "        vertical-align: middle;\n",
       "    }\n",
       "\n",
       "    .dataframe tbody tr th {\n",
       "        vertical-align: top;\n",
       "    }\n",
       "\n",
       "    .dataframe thead th {\n",
       "        text-align: right;\n",
       "    }\n",
       "</style>\n",
       "<table border=\"1\" class=\"dataframe\">\n",
       "  <thead>\n",
       "    <tr style=\"text-align: right;\">\n",
       "      <th>response</th>\n",
       "      <th>no</th>\n",
       "      <th>yes</th>\n",
       "    </tr>\n",
       "    <tr>\n",
       "      <th>experiment</th>\n",
       "      <th></th>\n",
       "      <th></th>\n",
       "    </tr>\n",
       "  </thead>\n",
       "  <tbody>\n",
       "    <tr>\n",
       "      <th>control</th>\n",
       "      <td>44</td>\n",
       "      <td>49</td>\n",
       "    </tr>\n",
       "    <tr>\n",
       "      <th>exposed</th>\n",
       "      <td>55</td>\n",
       "      <td>52</td>\n",
       "    </tr>\n",
       "  </tbody>\n",
       "</table>\n",
       "</div>"
      ],
      "text/plain": [
       "response    no  yes\n",
       "experiment         \n",
       "control     44   49\n",
       "exposed     55   52"
      ]
     },
     "execution_count": 114,
     "metadata": {},
     "output_type": "execute_result"
    }
   ],
   "source": [
    "contingency = pd.pivot_table(data=df2, index='experiment', columns='response', aggfunc='count')['auction_id']\n",
    "\n",
    "contingency"
   ]
  },
  {
   "cell_type": "code",
   "execution_count": 115,
   "metadata": {},
   "outputs": [
    {
     "name": "stdout",
     "output_type": "stream",
     "text": [
      "Fisher test p-value: 0.57\n"
     ]
    }
   ],
   "source": [
    "odds_ratio, test_p_value = stats.fisher_exact(contingency, alternative=\"two-sided\")\n",
    "\n",
    "print('Fisher test p-value: {:.2f}'.format(test_p_value))"
   ]
  },
  {
   "cell_type": "markdown",
   "metadata": {},
   "source": [
    "## Since p value (0.57) > alpha (0.05) .. we accept the Null Hypothesis\n",
    "### Conclude that there is no significant  .... effect of new ad camp and it has no effect on the audience"
   ]
  }
 ],
 "metadata": {
  "kernelspec": {
   "display_name": "Python 3",
   "language": "python",
   "name": "python3"
  },
  "language_info": {
   "codemirror_mode": {
    "name": "ipython",
    "version": 3
   },
   "file_extension": ".py",
   "mimetype": "text/x-python",
   "name": "python",
   "nbconvert_exporter": "python",
   "pygments_lexer": "ipython3",
   "version": "3.9.2"
  },
  "orig_nbformat": 4
 },
 "nbformat": 4,
 "nbformat_minor": 2
}
